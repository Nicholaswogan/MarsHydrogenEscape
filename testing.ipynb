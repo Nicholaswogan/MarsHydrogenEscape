{
 "cells": [
  {
   "cell_type": "code",
   "execution_count": 1,
   "metadata": {},
   "outputs": [],
   "source": [
    "import Mars\n",
    "import numpy as np\n",
    "from matplotlib import pyplot as plt"
   ]
  },
  {
   "cell_type": "code",
   "execution_count": 2,
   "metadata": {},
   "outputs": [],
   "source": [
    "H2esc = Mars.MarsHydrogenEscape()"
   ]
  },
  {
   "cell_type": "code",
   "execution_count": 3,
   "metadata": {},
   "outputs": [
    {
     "name": "stdout",
     "output_type": "stream",
     "text": [
      "266 µs ± 2.35 µs per loop (mean ± std. dev. of 7 runs, 1000 loops each)\n"
     ]
    }
   ],
   "source": [
    "ocean_GEL_cm = 200.0e2\n",
    "P_CO2_bars = 1.\n",
    "P_N2_bars = 1.\n",
    "Fe_react_frac = 1.\n",
    "yr = 365*24*60*60\n",
    "x = [ocean_GEL_cm, P_CO2_bars, P_N2_bars, Fe_react_frac]\n",
    "%timeit H2esc.WarmTimeAfterSeveralImpacts(x)"
   ]
  },
  {
   "cell_type": "code",
   "execution_count": null,
   "metadata": {
    "scrolled": true
   },
   "outputs": [],
   "source": []
  },
  {
   "cell_type": "code",
   "execution_count": 5,
   "metadata": {},
   "outputs": [],
   "source": [
    "ocean_GEL_cm = 200e2\n",
    "P_CO2_bars = 1\n",
    "P_N2_bars = 1\n",
    "Fe_react_frac = np.logspace(-3,0,15)\n",
    "time = []\n",
    "for Fe in Fe_react_frac:\n",
    "    x = [ocean_GEL_cm, P_CO2_bars, P_N2_bars, \\\n",
    "        Fe]\n",
    "    time.append(H2esc.WarmTimeAfterSeveralImpacts(x)/yr)"
   ]
  },
  {
   "cell_type": "code",
   "execution_count": 6,
   "metadata": {},
   "outputs": [
    {
     "data": {
      "image/png": "[encoded data removed]",
      "text/plain": [
       "<Figure size 504x360 with 1 Axes>"
      ]
     },
     "metadata": {
      "needs_background": "light"
     },
     "output_type": "display_data"
    }
   ],
   "source": [
    "plt.rcParams.update({'font.size': 15})\n",
    "fig,ax = plt.subplots(1,1,figsize=[7,5])\n",
    "ax.plot(Fe_react_frac,time)\n",
    "ax.set_xscale('log')\n",
    "ax.set_yscale('log')\n",
    "plt.show()"
   ]
  },
  {
   "cell_type": "code",
   "execution_count": null,
   "metadata": {},
   "outputs": [],
   "source": []
  },
  {
   "cell_type": "code",
   "execution_count": 7,
   "metadata": {},
   "outputs": [
    {
     "data": {
      "image/png": "[encoded data removed]",
      "text/plain": [
       "<Figure size 432x288 with 1 Axes>"
      ]
     },
     "metadata": {
      "needs_background": "light"
     },
     "output_type": "display_data"
    }
   ],
   "source": [
    "from scipy.stats import norm\n",
    "# low = 4\n",
    "# high = 7\n",
    "warm_time_mean = 5.5\n",
    "warm_time_std = 0.75\n",
    "\n",
    "dist = norm(warm_time_mean,warm_time_std)\n",
    "\n",
    "twarm = np.linspace(3,8,100)\n",
    "p = dist.pdf(twarm)\n",
    "\n",
    "plt.plot(twarm,p)\n",
    "plt.show()"
   ]
  },
  {
   "cell_type": "code",
   "execution_count": null,
   "metadata": {},
   "outputs": [],
   "source": []
  },
  {
   "cell_type": "code",
   "execution_count": 8,
   "metadata": {},
   "outputs": [],
   "source": [
    "from scipy import optimize\n",
    "\n",
    "def log_likelihood(theta, y, yerr):\n",
    "    \n",
    "    LOG10ocean_GEL_cm, \\\n",
    "    LOG10P_CO2_bars, \\\n",
    "    LOG10P_N2_bars, \\\n",
    "    LOG10Fe_react_frac  = theta\n",
    "    \n",
    "    x = [10.0**LOG10ocean_GEL_cm, 10.0**LOG10P_CO2_bars, \\\n",
    "         10.0**LOG10P_N2_bars, 10.0**LOG10Fe_react_frac]\n",
    "    \n",
    "    model = np.log10(max(H2esc.WarmTimeAfterSeveralImpacts(x)/yr,1e-10))\n",
    "    \n",
    "    sigma2 = yerr ** 2 \n",
    "    \n",
    "    return -0.5 * np.sum((y - model) ** 2 / sigma2 + np.log(sigma2))"
   ]
  },
  {
   "cell_type": "code",
   "execution_count": 9,
   "metadata": {},
   "outputs": [],
   "source": [
    "LOG10ocean_GEL_cm = np.log10(200e2)\n",
    "LOG10P_CO2_bars = np.log10(1)\n",
    "LOG10P_N2_bars = np.log10(1)\n",
    "LOG10Fe_react_frac = np.log10(.01)\n",
    "\n",
    "theta = np.array([LOG10ocean_GEL_cm, LOG10P_CO2_bars, \\\n",
    "                  LOG10P_N2_bars, LOG10Fe_react_frac])\n",
    "y = np.array([warm_time_mean])\n",
    "yerr = np.array([warm_time_std])\n",
    "\n",
    "nll = lambda *args: -log_likelihood(*args)\n"
   ]
  },
  {
   "cell_type": "code",
   "execution_count": 10,
   "metadata": {},
   "outputs": [],
   "source": [
    "soln = optimize.minimize(nll,theta,args=(y,yerr))"
   ]
  },
  {
   "cell_type": "code",
   "execution_count": null,
   "metadata": {},
   "outputs": [],
   "source": []
  },
  {
   "cell_type": "code",
   "execution_count": null,
   "metadata": {},
   "outputs": [],
   "source": []
  }
 ],
 "metadata": {
  "kernelspec": {
   "display_name": "Python 3",
   "language": "python",
   "name": "python3"
  },
  "language_info": {
   "codemirror_mode": {
    "name": "ipython",
    "version": 3
   },
   "file_extension": ".py",
   "mimetype": "text/x-python",
   "name": "python",
   "nbconvert_exporter": "python",
   "pygments_lexer": "ipython3",
   "version": "3.8.5"
  }
 },
 "nbformat": 4,
 "nbformat_minor": 4
}
